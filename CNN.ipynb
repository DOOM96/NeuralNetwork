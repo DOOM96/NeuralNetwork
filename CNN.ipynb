{
 "metadata": {
  "language_info": {
   "codemirror_mode": {
    "name": "ipython",
    "version": 3
   },
   "file_extension": ".py",
   "mimetype": "text/x-python",
   "name": "python",
   "nbconvert_exporter": "python",
   "pygments_lexer": "ipython3",
   "version": "3.6.13"
  },
  "orig_nbformat": 2,
  "kernelspec": {
   "name": "python3613jvsc74a57bd0f9d708a09b94be6d5abc55c95c701887c162cfb455e8921f9a53e0f8fb07dc0f",
   "display_name": "Python 3.6.13 64-bit ('tf': conda)"
  },
  "metadata": {
   "interpreter": {
    "hash": "f9d708a09b94be6d5abc55c95c701887c162cfb455e8921f9a53e0f8fb07dc0f"
   }
  }
 },
 "nbformat": 4,
 "nbformat_minor": 2,
 "cells": [
  {
   "cell_type": "code",
   "execution_count": 14,
   "metadata": {},
   "outputs": [],
   "source": [
    "import numpy as np\n",
    "import tensorflow as tf\n",
    "from tensorflow import keras\n",
    "from tensorflow.python.keras.models import Sequential\n",
    "from tensorflow.python.keras.layers import Activation, Dense, Flatten, BatchNormalization, Conv2D, MaxPool2D\n",
    "from tensorflow.python.keras.optimizers import Adam\n",
    "from tensorflow.python.keras.metrics import categorical_crossentropy\n",
    "from tensorflow.python.keras.preprocessing.image import ImageDataGenerator\n",
    "from sklearn.metrics import confusion_matrix\n",
    "import itertools\n",
    "import os\n",
    "import shutil\n",
    "import random\n",
    "import glob\n",
    "import matplotlib.pyplot as plt\n",
    "import warnings\n",
    "warnings.simplefilter(action='ignore', category=FutureWarning)\n",
    "%matplotlib inline"
   ]
  },
  {
   "source": [
    "# Data preparation"
   ],
   "cell_type": "markdown",
   "metadata": {}
  },
  {
   "cell_type": "code",
   "execution_count": 36,
   "metadata": {},
   "outputs": [
    {
     "output_type": "stream",
     "name": "stdout",
     "text": [
      "1\n"
     ]
    }
   ],
   "source": [
    "# Organize data into train, valid, test dirs\n",
    "os.chdir('data')\n",
    "if os.path.isdir('train/dog') is False:\n",
    "    print(1)\n",
    "    os.makedirs('train/dog')\n",
    "    os.makedirs('train/cat')\n",
    "    os.makedirs('valid/dog')\n",
    "    os.makedirs('valid/cat')\n",
    "    os.makedirs('test/dog')\n",
    "    os.makedirs('test/cat')\n",
    "\n",
    "    for i in random.sample(glob.glob('train/cat.*'), 500):\n",
    "        shutil.move(str(i), 'train/cat')      \n",
    "    for i in random.sample(glob.glob('train/dog.*'), 500):\n",
    "        shutil.move(str(i), 'train/dog')\n",
    "    for i in random.sample(glob.glob('train/cat.*'), 100):\n",
    "        shutil.move(str(i), 'valid/cat')        \n",
    "    for i in random.sample(glob.glob('train/dog.*'), 100):\n",
    "        shutil.move(str(i), 'valid/dog')\n",
    "    for i in random.sample(glob.glob('train/cat.*'), 50):\n",
    "        shutil.move(str(i), 'test/cat')      \n",
    "    for i in random.sample(glob.glob('train/dog.*'), 50):\n",
    "        shutil.move(str(i), 'test/dog')\n",
    "\n",
    "os.chdir('../')"
   ]
  },
  {
   "cell_type": "code",
   "execution_count": null,
   "metadata": {},
   "outputs": [],
   "source": []
  }
 ]
}